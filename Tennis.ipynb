{
 "cells": [
  {
   "cell_type": "markdown",
   "metadata": {},
   "source": [
    "# Project 3: Collaboration and competition\n",
    "\n",
    "---\n",
    "\n",
    "In this notebook, we start and interact with the environment to train agents which play tennis collaboratively.\n",
    "\n",
    "### 1. Necessary imports and defining the constants\n",
    "\n",
    "We begin by importing some necessary packages.  If the code cell below returns an error, please revisit the project instructions to double-check that you have installed [Unity ML-Agents](https://github.com/Unity-Technologies/ml-agents/blob/master/docs/Installation.md) and [NumPy](http://www.numpy.org/)."
   ]
  },
  {
   "cell_type": "code",
   "execution_count": 2,
   "metadata": {},
   "outputs": [],
   "source": [
    "from collections import deque\n",
    "import pickle\n",
    "\n",
    "from IPython.core.debugger import set_trace\n",
    "\n",
    "import numpy as np\n",
    "import pandas as pd\n",
    "import torch\n",
    "from unityagents import UnityEnvironment\n",
    "from tqdm import tqdm\n",
    "import matplotlib.pyplot as plt\n",
    "\n",
    "from d4pg_agent import Agent\n",
    "import Config\n",
    "\n",
    "%matplotlib inline \n",
    "\n",
    "# Initialize the config in which all hyperparams are stored\n",
    "config = Config.config()"
   ]
  },
  {
   "cell_type": "markdown",
   "metadata": {},
   "source": [
    "Next, we will start the environment!  **_Before running the code cell below_**, change the `file_name` parameter to match the location of the Unity environment that you downloaded.\n",
    "\n",
    "- **Mac**: `\"path/to/Tennis.app\"`\n",
    "- **Windows** (x86): `\"path/to/Tennis_Windows_x86/Tennis.exe\"`\n",
    "- **Windows** (x86_64): `\"path/to/Tennis_Windows_x86_64/Tennis.exe\"`\n",
    "- **Linux** (x86): `\"path/to/Tennis_Linux/Tennis.x86\"`\n",
    "- **Linux** (x86_64): `\"path/to/Tennis_Linux/Tennis.x86_64\"`\n",
    "- **Linux** (x86, headless): `\"path/to/Tennis_Linux_NoVis/Tennis.x86\"`\n",
    "- **Linux** (x86_64, headless): `\"path/to/Tennis_Linux_NoVis/Tennis.x86_64\"`\n",
    "\n",
    "For instance, if you are using a Mac, then you downloaded `Tennis.app`.  If this file is in the same folder as the notebook, then the line below should appear as follows:\n",
    "```\n",
    "env = UnityEnvironment(file_name=\"Tennis.app\")\n",
    "```"
   ]
  },
  {
   "cell_type": "code",
   "execution_count": 2,
   "metadata": {},
   "outputs": [],
   "source": [
    "env_file_name = 'Tennis_Windows_x86_64/Tennis.exe' # Path to the Unity environment.\n",
    "n_episodes = 50000              # Number of episodes to train on\n",
    "n_episodes_to_watch = 5         # Numbers of episodes to watch the trained agent"
   ]
  },
  {
   "cell_type": "markdown",
   "metadata": {},
   "source": [
    "### 2. Setting up the environment and watch an untrained agent"
   ]
  },
  {
   "cell_type": "markdown",
   "metadata": {},
   "source": [
    "In this step we start the environment, save the `brain_name`, which we need to interact with the environment and save the size of the state- and action-space."
   ]
  },
  {
   "cell_type": "code",
   "execution_count": 3,
   "metadata": {},
   "outputs": [
    {
     "name": "stderr",
     "output_type": "stream",
     "text": [
      "INFO:unityagents:\n",
      "'Academy' started successfully!\n",
      "Unity Academy name: Academy\n",
      "        Number of Brains: 1\n",
      "        Number of External Brains : 1\n",
      "        Lesson number : 0\n",
      "        Reset Parameters :\n",
      "\t\t\n",
      "Unity brain name: TennisBrain\n",
      "        Number of Visual Observations (per agent): 0\n",
      "        Vector Observation space type: continuous\n",
      "        Vector Observation space size (per agent): 8\n",
      "        Number of stacked Vector Observation: 3\n",
      "        Vector Action space type: continuous\n",
      "        Vector Action space size (per agent): 2\n",
      "        Vector Action descriptions: , \n"
     ]
    }
   ],
   "source": [
    "env = UnityEnvironment(file_name=env_file_name)\n",
    "brain_name = env.brain_names[0]\n",
    "brain = env.brains[brain_name]\n",
    "env_info = env.reset(train_mode=True)[brain_name]\n",
    "\n",
    "# number of actions\n",
    "action_size = brain.vector_action_space_size\n",
    "\n",
    "# dimension of the state-space \n",
    "num_agents = env_info.vector_observations.shape[0]\n",
    "state_size = env_info.vector_observations.shape[1]"
   ]
  },
  {
   "cell_type": "markdown",
   "metadata": {},
   "source": [
    "For comparison we'll let an agent take random actions and observe the score."
   ]
  },
  {
   "cell_type": "code",
   "execution_count": 4,
   "metadata": {},
   "outputs": [
    {
     "name": "stdout",
     "output_type": "stream",
     "text": [
      "Overall best score: 0.0\n"
     ]
    }
   ],
   "source": [
    "env_info = env.reset(train_mode=False)[brain_name]      # reset the environment    \n",
    "states = env_info.vector_observations                   # get the current state (for each agent)\n",
    "max_scores = -np.inf                                    # initialize the max score\n",
    "for _ in range(5):\n",
    "    scores = np.zeros(num_agents)                       # initialize the score (for each agent)\n",
    "    while True:\n",
    "        actions = np.random.randn(num_agents, action_size) # select an action (for each agent)\n",
    "        actions = np.clip(actions, -1, 1)                  # all actions between -1 and 1\n",
    "        env_info = env.step(actions)[brain_name]           # send all actions to tne environment\n",
    "        next_states = env_info.vector_observations         # get next state (for each agent)\n",
    "        rewards = env_info.rewards                         # get reward (for each agent)\n",
    "        dones = env_info.local_done                        # see if episode finished\n",
    "        scores += env_info.rewards                         # update the score (for each agent)\n",
    "        states = next_states                               # roll over states to next time step\n",
    "        if np.any(dones):                                  # exit loop if episode finished\n",
    "            max_scores = np.max([max_scores, np.max(scores)]) # Update the max scores\n",
    "            break\n",
    "print(f\"Overall best score: {max_scores:.3}\")"
   ]
  },
  {
   "cell_type": "markdown",
   "metadata": {},
   "source": [
    "### 3. Train an agent\n",
    "\n",
    "In the next code cells we initialize and train the agents. The trained model-parameters for the actor and critic will evaluated every 250 episodes and saved, every time a new best avg. score is achieved, in `checkpoint_xxx.pth`. \n",
    "\n",
    "To proof stability, training will be continued for 1000 more episodes.\n",
    "\n",
    "Training will be done on the gpu if one is available.\n",
    "\n",
    "If you just want to analyse already trained agents, you can skip this section."
   ]
  },
  {
   "cell_type": "code",
   "execution_count": 5,
   "metadata": {},
   "outputs": [],
   "source": [
    "def train_agent(n_episodes=10000):\n",
    "    \"\"\"Training the agents.\n",
    "    \n",
    "    Params\n",
    "    ======\n",
    "        n_episodes (int): maximum number of training episodes\n",
    "    \"\"\"\n",
    "    scores = []                        # list containing scores from each episode\n",
    "    scores_window = deque(maxlen=100)  # last 100 scores\n",
    "    scores_window.append(0)\n",
    "    \n",
    "    ep_after_solving = 1000\n",
    "    env_solved = False\n",
    "    best_mean_score = 0\n",
    "    \n",
    "    for i_episode in range(1, n_episodes+1):\n",
    "        env_info = env.reset(train_mode=True)[brain_name] # reset the environment\n",
    "        state = env_info.vector_observations\n",
    "        score_1 = 0\n",
    "        score_2 = 0\n",
    "        \n",
    "        # Decay the action-noise and reset the randomer\n",
    "        # The action-noise is linear dependant of the avg. score. \n",
    "        # Score==0: eps=config.EPS_START\n",
    "        # Score==0.3: eps=config.EPS_MIN\n",
    "        new_eps = np.mean(scores_window)*(config.EPSILON_MIN-config.EPSILON_START)/.3 + config.EPSILON_START\n",
    "        agent_1.epsilon = new_eps\n",
    "        agent_2.epsilon = new_eps\n",
    "        agent_1.noise.reset()\n",
    "        agent_2.noise.reset()\n",
    "\n",
    "        while True:\n",
    "            \n",
    "            # Select action\n",
    "            action_1 = agent_1.act(np.expand_dims(state[0], 0))\n",
    "            action_2 = agent_2.act(np.expand_dims(state[1], 0))\n",
    "\n",
    "            action = [action_1, action_2]\n",
    "            env_info = env.step(action)[brain_name]         # send the action to the environment\n",
    "            next_state = env_info.vector_observations       # get the next state\n",
    "            reward = env_info.rewards                       # get the reward\n",
    "            done = env_info.local_done                      # see if episode has finished\n",
    "            \n",
    "            agent_1.step(state[0], action_1[0], reward[0], next_state[0], done[0])\n",
    "            agent_2.step(state[1], action_2[0], reward[1], next_state[1], done[1])\n",
    "          \n",
    "            # Save the next_state as state and add the rewards to the current scores\n",
    "            state = next_state\n",
    "            score_1 += reward[0]\n",
    "            score_2 += reward[1]\n",
    "            if np.any(done): \n",
    "                break \n",
    "\n",
    "                \n",
    "        scores_window.append(np.max([score_1, score_2]))       # save most recent score to the windowed score\n",
    "        scores.append(np.max([score_1, score_2]))              # save most recent score\n",
    "        print('\\rEpisode {}\\tAverage Score: {:.2f}\\tLast Score: {:.2f}'.format(i_episode, np.mean(scores_window), scores[-1]), end=\"\")\n",
    "        if i_episode % 250 == 0:\n",
    "            print('\\rEpisode {}\\tAverage Score: {:.2f}'.format(i_episode, np.mean(scores_window)))\n",
    "            \n",
    "            # Save weights if the avg. score is higher than it ever was before\n",
    "            if np.mean(scores_window) > best_mean_score:\n",
    "                \n",
    "                best_mean_score = np.mean(scores_window)\n",
    "                torch.save(agent_1.critic_local.state_dict(), f\"Results/checkpoint_agent_1_critic.pth\")\n",
    "                torch.save(agent_1.actor_local.state_dict(), f\"Results/checkpoint_agent_1_actor.pth\")\n",
    "                torch.save(agent_2.critic_local.state_dict(), f\"Results/checkpoint_agent_2_critic.pth\")\n",
    "                torch.save(agent_2.actor_local.state_dict(), f\"Results/checkpoint_agent_2_actor.pth\")\n",
    "\n",
    "            # Saving Scores\n",
    "            pickle.dump(scores, open(f\"Results/Scores.pkl\", 'wb'))\n",
    "        \n",
    "        # If the environment is solved the first time, save the current episode in env_solved\n",
    "        if np.mean(scores_window)>=.3 and not env_solved:\n",
    "            env_solved = i_episode\n",
    "            print('\\nEnvironment solved in {:d} episodes!\\tAverage Score: {:.2f}'.format(i_episode, np.mean(scores_window)))\n",
    "        \n",
    "        # Check if the after-run is finished and then stop training\n",
    "        if env_solved and (i_episode >= env_solved + ep_after_solving  or (i_episode>=n_episodes+1)):\n",
    "            break\n",
    "    \n",
    "    return scores"
   ]
  },
  {
   "cell_type": "code",
   "execution_count": 6,
   "metadata": {},
   "outputs": [
    {
     "name": "stdout",
     "output_type": "stream",
     "text": [
      "Episode 250\tAverage Score: 0.01\tLast Score: 0.00\n",
      "Episode 500\tAverage Score: 0.01\tLast Score: 0.00\n",
      "Episode 750\tAverage Score: 0.01\tLast Score: 0.00\n",
      "Episode 1000\tAverage Score: 0.03\tLast Score: 0.00\n",
      "Episode 1250\tAverage Score: 0.01\tLast Score: 0.00\n",
      "Episode 1500\tAverage Score: 0.02\tLast Score: 0.00\n",
      "Episode 1750\tAverage Score: 0.04\tLast Score: 0.10\n",
      "Episode 2000\tAverage Score: 0.04\tLast Score: 0.10\n",
      "Episode 2250\tAverage Score: 0.03\tLast Score: 0.00\n",
      "Episode 2500\tAverage Score: 0.02\tLast Score: 0.09\n",
      "Episode 2750\tAverage Score: 0.01\tLast Score: 0.00\n",
      "Episode 3000\tAverage Score: 0.02\tLast Score: 0.00\n",
      "Episode 3250\tAverage Score: 0.02\tLast Score: 0.10\n",
      "Episode 3500\tAverage Score: 0.02\tLast Score: 0.00\n",
      "Episode 3750\tAverage Score: 0.01\tLast Score: 0.10\n",
      "Episode 4000\tAverage Score: 0.01\tLast Score: 0.00\n",
      "Episode 4250\tAverage Score: 0.02\tLast Score: 0.09\n",
      "Episode 4500\tAverage Score: 0.02\tLast Score: 0.00\n",
      "Episode 4750\tAverage Score: 0.01\tLast Score: 0.00\n",
      "Episode 5000\tAverage Score: 0.01\tLast Score: 0.00\n",
      "Episode 5250\tAverage Score: 0.01\tLast Score: 0.00\n",
      "Episode 5500\tAverage Score: 0.01\tLast Score: 0.00\n",
      "Episode 5750\tAverage Score: 0.02\tLast Score: 0.00\n",
      "Episode 6000\tAverage Score: 0.03\tLast Score: 0.00\n",
      "Episode 6250\tAverage Score: 0.03\tLast Score: 0.00\n",
      "Episode 6500\tAverage Score: 0.03\tLast Score: 0.09\n",
      "Episode 6750\tAverage Score: 0.03\tLast Score: 0.00\n",
      "Episode 7000\tAverage Score: 0.03\tLast Score: 0.00\n",
      "Episode 7250\tAverage Score: 0.04\tLast Score: 0.09\n",
      "Episode 7500\tAverage Score: 0.05\tLast Score: 0.00\n",
      "Episode 7750\tAverage Score: 0.05\tLast Score: 0.09\n",
      "Episode 8000\tAverage Score: 0.05\tLast Score: 0.09\n",
      "Episode 8250\tAverage Score: 0.04\tLast Score: 0.00\n",
      "Episode 8500\tAverage Score: 0.05\tLast Score: 0.09\n",
      "Episode 8750\tAverage Score: 0.04\tLast Score: 0.09\n",
      "Episode 9000\tAverage Score: 0.05\tLast Score: 0.09\n",
      "Episode 9250\tAverage Score: 0.04\tLast Score: 0.00\n",
      "Episode 9500\tAverage Score: 0.05\tLast Score: 0.09\n",
      "Episode 9750\tAverage Score: 0.05\tLast Score: 0.00\n",
      "Episode 10000\tAverage Score: 0.05\tLast Score: 0.00\n",
      "Episode 10250\tAverage Score: 0.03\tLast Score: 0.09\n",
      "Episode 10500\tAverage Score: 0.05\tLast Score: 0.10\n",
      "Episode 10750\tAverage Score: 0.05\tLast Score: 0.00\n",
      "Episode 11000\tAverage Score: 0.04\tLast Score: 0.00\n",
      "Episode 11250\tAverage Score: 0.05\tLast Score: 0.00\n",
      "Episode 11500\tAverage Score: 0.04\tLast Score: 0.10\n",
      "Episode 11750\tAverage Score: 0.05\tLast Score: 0.00\n",
      "Episode 12000\tAverage Score: 0.06\tLast Score: 0.09\n",
      "Episode 12250\tAverage Score: 0.06\tLast Score: 0.00\n",
      "Episode 12500\tAverage Score: 0.06\tLast Score: 0.00\n",
      "Episode 12750\tAverage Score: 0.06\tLast Score: 0.10\n",
      "Episode 13000\tAverage Score: 0.06\tLast Score: 0.10\n",
      "Episode 13250\tAverage Score: 0.07\tLast Score: 0.00\n",
      "Episode 13500\tAverage Score: 0.06\tLast Score: 0.00\n",
      "Episode 13750\tAverage Score: 0.06\tLast Score: 0.10\n",
      "Episode 14000\tAverage Score: 0.06\tLast Score: 0.00\n",
      "Episode 14250\tAverage Score: 0.07\tLast Score: 0.09\n",
      "Episode 14500\tAverage Score: 0.06\tLast Score: 0.00\n",
      "Episode 14750\tAverage Score: 0.06\tLast Score: 0.09\n",
      "Episode 15000\tAverage Score: 0.06\tLast Score: 0.00\n",
      "Episode 15250\tAverage Score: 0.07\tLast Score: 0.09\n",
      "Episode 15500\tAverage Score: 0.08\tLast Score: 0.09\n",
      "Episode 15750\tAverage Score: 0.08\tLast Score: 0.09\n",
      "Episode 16000\tAverage Score: 0.10\tLast Score: 0.09\n",
      "Episode 16250\tAverage Score: 0.07\tLast Score: 0.00\n",
      "Episode 16500\tAverage Score: 0.09\tLast Score: 0.09\n",
      "Episode 16750\tAverage Score: 0.16\tLast Score: 0.80\n",
      "Episode 17000\tAverage Score: 0.17\tLast Score: 0.50\n",
      "Episode 17250\tAverage Score: 0.17\tLast Score: 0.20\n",
      "Episode 17500\tAverage Score: 0.15\tLast Score: 0.10\n",
      "Episode 17750\tAverage Score: 0.14\tLast Score: 0.10\n",
      "Episode 18000\tAverage Score: 0.22\tLast Score: 0.20\n",
      "Episode 18250\tAverage Score: 0.18\tLast Score: 0.10\n",
      "Episode 18500\tAverage Score: 0.19\tLast Score: 0.10\n",
      "Episode 18750\tAverage Score: 0.24\tLast Score: 0.10\n",
      "Episode 18997\tAverage Score: 0.30\tLast Score: 0.30\n",
      "Environment solved in 18997 episodes!\tAverage Score: 0.30\n",
      "Episode 19000\tAverage Score: 0.30\tLast Score: 0.10\n",
      "Episode 19250\tAverage Score: 0.28\tLast Score: 0.20\n",
      "Episode 19500\tAverage Score: 0.33\tLast Score: 0.40\n",
      "Episode 19750\tAverage Score: 0.27\tLast Score: 0.50\n",
      "Episode 19997\tAverage Score: 0.27\tLast Score: 0.10"
     ]
    }
   ],
   "source": [
    "# Create the Agent and let it train\n",
    "agent_1 = Agent(config, state_size, action_size, 1, seed=0)\n",
    "agent_2 = Agent(config, state_size, action_size, 1, seed=1234)\n",
    "\n",
    "# Train the agent and save the scores for later analysis\n",
    "scores = train_agent(n_episodes=n_episodes)"
   ]
  },
  {
   "cell_type": "markdown",
   "metadata": {},
   "source": [
    "### 4. Whatch trained agents\n",
    "Next we can watch a trained agent play tennis for `n_episodes_to_watch` episodes. Therefore we load the model-parameters, reset the environment and loop through the specified number of episodes only using the calculated actions without any random noise. "
   ]
  },
  {
   "cell_type": "code",
   "execution_count": null,
   "metadata": {},
   "outputs": [],
   "source": [
    "agent_1 = Agent(config, state_size, action_size, 1, seed=0)\n",
    "agent_2 = Agent(config, state_size, action_size, 1, seed=1234)\n",
    "\n",
    "agent_1.actor_local.load_state_dict(torch.load(\"Results/checkpoint_agent_1_actor.pth\", map_location=agent_1.config.device))\n",
    "agent_1.critic_local.load_state_dict(torch.load(\"Results/checkpoint_agent_1_critic.pth\", map_location=agent_1.config.device))\n",
    "agent_2.actor_local.load_state_dict(torch.load(\"Results/checkpoint_agent_2_actor.pth\", map_location=agent_2.config.device))\n",
    "agent_2.critic_local.load_state_dict(torch.load(\"Results/checkpoint_agent_2_critic.pth\", map_location=agent_2.config.device))\n",
    "\n",
    "agent_1.is_training = False\n",
    "agent_2.is_training = False\n",
    "\n",
    "scores = []                            # list containing scores from each episode\n",
    "best_score = -np.inf                   # initialize the best score\n",
    "for i_episode in range(1, n_episodes_to_watch+1):    # Loop through five episodes\n",
    "    env_info = env.reset(train_mode=False)[brain_name] # reset the environment\n",
    "    state = env_info.vector_observations\n",
    "    score_1 = 0\n",
    "    score_2 = 0\n",
    "    \n",
    "    while True:\n",
    "        action_1 = agent_1.act(np.expand_dims(state[0], 0))\n",
    "        action_2 = agent_2.act(np.expand_dims(state[1], 0))\n",
    "\n",
    "        action = [action_1, action_2]\n",
    "        env_info = env.step(action)[brain_name]         # send the action to the environment\n",
    "        \n",
    "        state = env_info.vector_observations            # get the new state\n",
    "        reward = env_info.rewards                       # get the reward\n",
    "        done = env_info.local_done                      # see if episode has finished\n",
    "        \n",
    "        score_1 += reward[0]\n",
    "        score_2 += reward[1]\n",
    "        \n",
    "        if np.any(done):\n",
    "            break \n",
    "    temp_score = np.max([score_1, score_2])\n",
    "    if temp_score > best_score:\n",
    "        best_score = temp_score\n",
    "    scores.append(temp_score)                           # save most recent score\n",
    "\n",
    "print(f\"Avg. score: {np.mean(scores):.3}, Max score: {best_score}\")"
   ]
  },
  {
   "cell_type": "markdown",
   "metadata": {},
   "source": [
    "### 5. Plot the learning-curve\n",
    "In the last section we want to take a look at the learning curve. For orientation the goal-score (30) is also plottet."
   ]
  },
  {
   "cell_type": "code",
   "execution_count": 5,
   "metadata": {},
   "outputs": [
    {
     "data": {
      "text/plain": [
       "Text(0, 0.5, 'Score')"
      ]
     },
     "execution_count": 5,
     "metadata": {},
     "output_type": "execute_result"
    },
    {
     "data": {
      "image/png": "[encoded data removed]",
      "text/plain": [
       "<Figure size 432x288 with 1 Axes>"
      ]
     },
     "metadata": {
      "needs_background": "light"
     },
     "output_type": "display_data"
    }
   ],
   "source": [
    "training_scores = pickle.load(open(f\"Results/Scores.pkl\", 'rb'))\n",
    "scores_ma = pd.DataFrame(training_scores).rolling(window=100).mean()\n",
    "plt.plot(range(1, len(training_scores)+1), training_scores, 'b')\n",
    "plt.plot(scores_ma.index.values, scores_ma.values, 'r')\n",
    "plt.plot(np.ones(len(training_scores))*.3, 'k--')\n",
    "plt.xlabel('Episodes')\n",
    "plt.ylabel('Score')"
   ]
  },
  {
   "cell_type": "markdown",
   "metadata": {},
   "source": [
    "### 6. Close the environment"
   ]
  },
  {
   "cell_type": "code",
   "execution_count": null,
   "metadata": {},
   "outputs": [],
   "source": [
    "env.close()"
   ]
  }
 ],
 "metadata": {
  "kernelspec": {
   "display_name": "Python 3",
   "language": "python",
   "name": "python3"
  },
  "language_info": {
   "codemirror_mode": {
    "name": "ipython",
    "version": 3
   },
   "file_extension": ".py",
   "mimetype": "text/x-python",
   "name": "python",
   "nbconvert_exporter": "python",
   "pygments_lexer": "ipython3",
   "version": "3.6.5"
  }
 },
 "nbformat": 4,
 "nbformat_minor": 4
}
